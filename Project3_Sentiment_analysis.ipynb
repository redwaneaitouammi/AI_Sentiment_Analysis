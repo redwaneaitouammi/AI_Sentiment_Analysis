{
  "nbformat": 4,
  "nbformat_minor": 0,
  "metadata": {
    "colab": {
      "name": "Project3_Sentiment analysis.ipynb",
      "provenance": [],
      "authorship_tag": "ABX9TyMcPFU9atCWthyKsaHFQnhQ",
      "include_colab_link": true
    },
    "kernelspec": {
      "name": "python3",
      "display_name": "Python 3"
    },
    "language_info": {
      "name": "python"
    }
  },
  "cells": [
    {
      "cell_type": "markdown",
      "metadata": {
        "id": "view-in-github",
        "colab_type": "text"
      },
      "source": [
        "<a href=\"https://colab.research.google.com/github/redwaneaitouammi/AI_Sentiment_Analysis/blob/main/Project3_Sentiment_analysis.ipynb\" target=\"_parent\"><img src=\"https://colab.research.google.com/assets/colab-badge.svg\" alt=\"Open In Colab\"/></a>"
      ]
    },
    {
      "cell_type": "markdown",
      "metadata": {
        "id": "HELcsVNkP4Od"
      },
      "source": [
        "# Sentiment analysis - Based on text classification model"
      ]
    },
    {
      "cell_type": "code",
      "metadata": {
        "colab": {
          "base_uri": "https://localhost:8080/"
        },
        "id": "s6CcO6_UNcSV",
        "outputId": "0d0d54b5-bccd-4a07-880d-1ab99bb4a40e"
      },
      "source": [
        "import os\n",
        "import re\n",
        "import string\n",
        "import shutil\n",
        "import tensorflow as tf\n",
        "import matplotlib.pyplot as plt\n",
        "\n",
        "print(tf.__version__)"
      ],
      "execution_count": 6,
      "outputs": [
        {
          "output_type": "stream",
          "text": [
            "2.4.1\n"
          ],
          "name": "stdout"
        }
      ]
    },
    {
      "cell_type": "markdown",
      "metadata": {
        "id": "uRICrsMYR-Vd"
      },
      "source": [
        "Download and explore the IMDB dataset"
      ]
    },
    {
      "cell_type": "code",
      "metadata": {
        "id": "T704y4fIPv48",
        "colab": {
          "base_uri": "https://localhost:8080/"
        },
        "outputId": "4ce6ff75-a45f-4f47-e1bc-e0583958a3a8"
      },
      "source": [
        "URL = \"https://ai.stanford.edu/~amaas/data/sentiment/aclImdb_v1.tar.gz\"\n",
        "\n",
        "data = tf.keras.utils.get_file(\"aclImdb_v1.tar.gz\",URL,untar=True,cache_dir='.',cache_subdir='')\n",
        "data_dir = os.path.join(os.path.dirname(data), 'aclImdb')"
      ],
      "execution_count": 7,
      "outputs": [
        {
          "output_type": "stream",
          "text": [
            "Downloading data from https://ai.stanford.edu/~amaas/data/sentiment/aclImdb_v1.tar.gz\n",
            "84131840/84125825 [==============================] - 4s 0us/step\n"
          ],
          "name": "stdout"
        }
      ]
    },
    {
      "cell_type": "code",
      "metadata": {
        "colab": {
          "base_uri": "https://localhost:8080/"
        },
        "id": "mB3g1pP7TCuF",
        "outputId": "0b7c9713-1d26-4aa5-ee28-573c05fc14ce"
      },
      "source": [
        "os.listdir(data_dir)"
      ],
      "execution_count": 8,
      "outputs": [
        {
          "output_type": "execute_result",
          "data": {
            "text/plain": [
              "['imdbEr.txt', 'imdb.vocab', 'README', 'test', 'train']"
            ]
          },
          "metadata": {
            "tags": []
          },
          "execution_count": 8
        }
      ]
    },
    {
      "cell_type": "code",
      "metadata": {
        "colab": {
          "base_uri": "https://localhost:8080/"
        },
        "id": "rzHClvEpTMbd",
        "outputId": "9c4cb66e-e986-4744-d876-d8936d892ab4"
      },
      "source": [
        "train_dir=os.path.join(data_dir,'train')\n",
        "os.listdir(train_dir)"
      ],
      "execution_count": 9,
      "outputs": [
        {
          "output_type": "execute_result",
          "data": {
            "text/plain": [
              "['urls_neg.txt',\n",
              " 'urls_pos.txt',\n",
              " 'urls_unsup.txt',\n",
              " 'unsup',\n",
              " 'neg',\n",
              " 'unsupBow.feat',\n",
              " 'labeledBow.feat',\n",
              " 'pos']"
            ]
          },
          "metadata": {
            "tags": []
          },
          "execution_count": 9
        }
      ]
    },
    {
      "cell_type": "code",
      "metadata": {
        "colab": {
          "base_uri": "https://localhost:8080/"
        },
        "id": "OtEEXZ7pTiHG",
        "outputId": "2108665f-5232-4d7b-e955-78270a3da3f7"
      },
      "source": [
        "sample_file = os.path.join(train_dir,'pos/1181_9.txt')\n",
        "with open(sample_file) as f:\n",
        "  print(f.read())"
      ],
      "execution_count": 10,
      "outputs": [
        {
          "output_type": "stream",
          "text": [
            "Rachel Griffiths writes and directs this award winning short film. A heartwarming story about coping with grief and cherishing the memory of those we've loved and lost. Although, only 15 minutes long, Griffiths manages to capture so much emotion and truth onto film in the short space of time. Bud Tingwell gives a touching performance as Will, a widower struggling to cope with his wife's death. Will is confronted by the harsh reality of loneliness and helplessness as he proceeds to take care of Ruth's pet cow, Tulip. The film displays the grief and responsibility one feels for those they have loved and lost. Good cinematography, great direction, and superbly acted. It will bring tears to all those who have lost a loved one, and survived.\n"
          ],
          "name": "stdout"
        }
      ]
    },
    {
      "cell_type": "markdown",
      "metadata": {
        "id": "S42sWAgJedut"
      },
      "source": [
        "Prepare Data"
      ]
    },
    {
      "cell_type": "code",
      "metadata": {
        "id": "fsWi-PDEXmtH"
      },
      "source": [
        "remove_dir = os.path.join(train_dir,'unsup')\n",
        "shutil.rmtree(remove_dir)"
      ],
      "execution_count": 11,
      "outputs": []
    },
    {
      "cell_type": "code",
      "metadata": {
        "colab": {
          "base_uri": "https://localhost:8080/"
        },
        "id": "5X-POxV0fCNP",
        "outputId": "efbab5c1-76dd-46b8-8742-8f90c00c7a2f"
      },
      "source": [
        "batch_size = 32 \n",
        "seed = 42\n",
        "\n",
        "raw_train_ds = tf.keras.preprocessing.text_dataset_from_directory(\n",
        "    'aclImdb/train',\n",
        "    batch_size = batch_size,\n",
        "    validation_split=0.2, \n",
        "    subset='training',\n",
        "    seed = seed\n",
        ")"
      ],
      "execution_count": 12,
      "outputs": [
        {
          "output_type": "stream",
          "text": [
            "Found 25000 files belonging to 2 classes.\n",
            "Using 20000 files for training.\n"
          ],
          "name": "stdout"
        }
      ]
    },
    {
      "cell_type": "code",
      "metadata": {
        "colab": {
          "base_uri": "https://localhost:8080/"
        },
        "id": "y1XVNJ68jOfs",
        "outputId": "53bd38a1-ddc7-48d3-85e6-ee2a192d7da7"
      },
      "source": [
        "for text_batch, label_batch in raw_train_ds.take(1):\n",
        "  for i in range(3):\n",
        "    print(\"review\", text_batch.numpy()[i])\n",
        "    print(\"class\", label_batch.numpy()[i])"
      ],
      "execution_count": 13,
      "outputs": [
        {
          "output_type": "stream",
          "text": [
            "review b'\"Pandemonium\" is a horror movie spoof that comes off more stupid than funny. Believe me when I tell you, I love comedies. Especially comedy spoofs. \"Airplane\", \"The Naked Gun\" trilogy, \"Blazing Saddles\", \"High Anxiety\", and \"Spaceballs\" are some of my favorite comedies that spoof a particular genre. \"Pandemonium\" is not up there with those films. Most of the scenes in this movie had me sitting there in stunned silence because the movie wasn\\'t all that funny. There are a few laughs in the film, but when you watch a comedy, you expect to laugh a lot more than a few times and that\\'s all this film has going for it. Geez, \"Scream\" had more laughs than this film and that was more of a horror film. How bizarre is that?<br /><br />*1/2 (out of four)'\n",
            "class 0\n",
            "review b\"David Mamet is a very interesting and a very un-equal director. His first movie 'House of Games' was the one I liked best, and it set a series of films with characters whose perspective of life changes as they get into complicated situations, and so does the perspective of the viewer.<br /><br />So is 'Homicide' which from the title tries to set the mind of the viewer to the usual crime drama. The principal characters are two cops, one Jewish and one Irish who deal with a racially charged area. The murder of an old Jewish shop owner who proves to be an ancient veteran of the Israeli Independence war triggers the Jewish identity in the mind and heart of the Jewish detective.<br /><br />This is were the flaws of the film are the more obvious. The process of awakening is theatrical and hard to believe, the group of Jewish militants is operatic, and the way the detective eventually walks to the final violent confrontation is pathetic. The end of the film itself is Mamet-like smart, but disappoints from a human emotional perspective.<br /><br />Joe Mantegna and William Macy give strong performances, but the flaws of the story are too evident to be easily compensated.\"\n",
            "class 0\n",
            "review b'Great documentary about the lives of NY firefighters during the worst terrorist attack of all time.. That reason alone is why this should be a must see collectors item.. What shocked me was not only the attacks, but the\"High Fat Diet\" and physical appearance of some of these firefighters. I think a lot of Doctors would agree with me that,in the physical shape they were in, some of these firefighters would NOT of made it to the 79th floor carrying over 60 lbs of gear. Having said that i now have a greater respect for firefighters and i realize becoming a firefighter is a life altering job. The French have a history of making great documentary\\'s and that is what this is, a Great Documentary.....'\n",
            "class 1\n"
          ],
          "name": "stdout"
        }
      ]
    },
    {
      "cell_type": "code",
      "metadata": {
        "colab": {
          "base_uri": "https://localhost:8080/"
        },
        "id": "wbJkfkH2lFLc",
        "outputId": "eb0989af-63b1-486d-ae67-7df32049e7a6"
      },
      "source": [
        "print(\"Label 0 corresponds to\", raw_train_ds.class_names[0])\n",
        "print(\"Label 1 corresponds to\", raw_train_ds.class_names[1])"
      ],
      "execution_count": 14,
      "outputs": [
        {
          "output_type": "stream",
          "text": [
            "Label 0 corresponds to neg\n",
            "Label 1 corresponds to pos\n"
          ],
          "name": "stdout"
        }
      ]
    },
    {
      "cell_type": "code",
      "metadata": {
        "colab": {
          "base_uri": "https://localhost:8080/"
        },
        "id": "ClIvr4nJq1To",
        "outputId": "b30bdb1f-01af-4650-f5e4-173bc268b760"
      },
      "source": [
        "raw_val_ds = tf.keras.preprocessing.text_dataset_from_directory(\n",
        "    'aclImdb/train', \n",
        "    batch_size=batch_size, \n",
        "    validation_split=0.2, \n",
        "    subset='validation', \n",
        "    seed=seed)"
      ],
      "execution_count": 15,
      "outputs": [
        {
          "output_type": "stream",
          "text": [
            "Found 25000 files belonging to 2 classes.\n",
            "Using 5000 files for validation.\n"
          ],
          "name": "stdout"
        }
      ]
    },
    {
      "cell_type": "code",
      "metadata": {
        "colab": {
          "base_uri": "https://localhost:8080/"
        },
        "id": "k0UTTRhorlPS",
        "outputId": "e9784c58-9433-4e34-c673-945fdc6c8eb2"
      },
      "source": [
        "raw_test_ds = tf.keras.preprocessing.text_dataset_from_directory(\n",
        "    'aclImdb/test', \n",
        "    batch_size=batch_size)"
      ],
      "execution_count": 16,
      "outputs": [
        {
          "output_type": "stream",
          "text": [
            "Found 25000 files belonging to 2 classes.\n"
          ],
          "name": "stdout"
        }
      ]
    },
    {
      "cell_type": "markdown",
      "metadata": {
        "id": "y_zA0qhcrwn0"
      },
      "source": [
        "Prepare the dataset for training\n",
        "\n",
        " \n",
        "\n",
        "*   Standardize, tokenize, and vectorize the data\n",
        "*   Remove punctuation or HTML elements to simplify the dataset\n",
        "*   Vectorization refers to converting tokens into numbers so they can be fed into a neural network \n",
        "\n"
      ]
    },
    {
      "cell_type": "code",
      "metadata": {
        "id": "7anMiYyUroJ2"
      },
      "source": [
        "def custom_standardization(input_data):\n",
        "  lowercase = tf.strings.lower(input_data)\n",
        "  stripped_html = tf.strings.regex_replace(lowercase, '<br />', ' ')\n",
        "  return tf.strings.regex_replace(stripped_html,\n",
        "                                  '[%s]' % re.escape(string.punctuation),\n",
        "                                  '')"
      ],
      "execution_count": 17,
      "outputs": []
    },
    {
      "cell_type": "code",
      "metadata": {
        "id": "IIZe93xYxqVx"
      },
      "source": [
        "from tensorflow.keras.layers.experimental.preprocessing import TextVectorization"
      ],
      "execution_count": 18,
      "outputs": []
    },
    {
      "cell_type": "code",
      "metadata": {
        "id": "-UTMUKoZxkgJ"
      },
      "source": [
        "max_features = 10000\n",
        "sequence_length = 250\n",
        "\n",
        "vectorize_layer = TextVectorization(\n",
        "    standardize=custom_standardization,\n",
        "    max_tokens=max_features,\n",
        "    output_mode='int',\n",
        "    output_sequence_length=sequence_length)"
      ],
      "execution_count": 19,
      "outputs": []
    },
    {
      "cell_type": "markdown",
      "metadata": {
        "id": "OrjYS9w0x_zv"
      },
      "source": [
        "In Python, we use the lambda keyword to declare an anonymous function, which is why we refer to them as \"lambda functions\". An anonymous function refers to a function declared with no name. ... A lambda function can take any number of arguments, but they contain only a single expression."
      ]
    },
    {
      "cell_type": "code",
      "metadata": {
        "id": "o4JVWYt1xtyJ"
      },
      "source": [
        "train_text = raw_train_ds.map(lambda x, y: x)\n",
        "vectorize_layer.adapt(train_text)"
      ],
      "execution_count": 20,
      "outputs": []
    },
    {
      "cell_type": "code",
      "metadata": {
        "id": "rjSuqVRgyEXB"
      },
      "source": [
        "def vectorize_text(text, label):\n",
        "  text = tf.expand_dims(text, -1)\n",
        "  return vectorize_layer(text), label"
      ],
      "execution_count": 21,
      "outputs": []
    },
    {
      "cell_type": "code",
      "metadata": {
        "colab": {
          "base_uri": "https://localhost:8080/"
        },
        "id": "TsIRxav2yG-J",
        "outputId": "f912ed40-5fb2-4534-d333-dad55679048a"
      },
      "source": [
        "# retrieve a batch (of 32 reviews and labels) from the dataset\n",
        "text_batch, label_batch = next(iter(raw_train_ds))\n",
        "first_review, first_label = text_batch[0], label_batch[0]\n",
        "print(\"Review\", first_review)\n",
        "print(\"Label\", raw_train_ds.class_names[first_label])\n",
        "print(\"Vectorized review\", vectorize_text(first_review, first_label))"
      ],
      "execution_count": 22,
      "outputs": [
        {
          "output_type": "stream",
          "text": [
            "Review tf.Tensor(b'Silent Night, Deadly Night 5 is the very last of the series, and like part 4, it\\'s unrelated to the first three except by title and the fact that it\\'s a Christmas-themed horror flick.<br /><br />Except to the oblivious, there\\'s some obvious things going on here...Mickey Rooney plays a toymaker named Joe Petto and his creepy son\\'s name is Pino. Ring a bell, anyone? Now, a little boy named Derek heard a knock at the door one evening, and opened it to find a present on the doorstep for him. Even though it said \"don\\'t open till Christmas\", he begins to open it anyway but is stopped by his dad, who scolds him and sends him to bed, and opens the gift himself. Inside is a little red ball that sprouts Santa arms and a head, and proceeds to kill dad. Oops, maybe he should have left well-enough alone. Of course Derek is then traumatized by the incident since he watched it from the stairs, but he doesn\\'t grow up to be some killer Santa, he just stops talking.<br /><br />There\\'s a mysterious stranger lurking around, who seems very interested in the toys that Joe Petto makes. We even see him buying a bunch when Derek\\'s mom takes him to the store to find a gift for him to bring him out of his trauma. And what exactly is this guy doing? Well, we\\'re not sure but he does seem to be taking these toys apart to see what makes them tick. He does keep his landlord from evicting him by promising him to pay him in cash the next day and presents him with a \"Larry the Larvae\" toy for his kid, but of course \"Larry\" is not a good toy and gets out of the box in the car and of course, well, things aren\\'t pretty.<br /><br />Anyway, eventually what\\'s going on with Joe Petto and Pino is of course revealed, and as with the old story, Pino is not a \"real boy\". Pino is probably even more agitated and naughty because he suffers from \"Kenitalia\" (a smooth plastic crotch) so that could account for his evil ways. And the identity of the lurking stranger is revealed too, and there\\'s even kind of a happy ending of sorts. Whee.<br /><br />A step up from part 4, but not much of one. Again, Brian Yuzna is involved, and Screaming Mad George, so some decent special effects, but not enough to make this great. A few leftovers from part 4 are hanging around too, like Clint Howard and Neith Hunter, but that doesn\\'t really make any difference. Anyway, I now have seeing the whole series out of my system. Now if I could get some of it out of my brain. 4 out of 5.', shape=(), dtype=string)\n",
            "Label neg\n",
            "Vectorized review (<tf.Tensor: shape=(1, 250), dtype=int64, numpy=\n",
            "array([[1287,  313, 2380,  313,  661,    7,    2,   52,  229,    5,    2,\n",
            "         200,    3,   38,  170,  669,   29, 5492,    6,    2,   83,  297,\n",
            "         549,   32,  410,    3,    2,  186,   12,   29,    4,    1,  191,\n",
            "         510,  549,    6,    2, 8229,  212,   46,  576,  175,  168,   20,\n",
            "           1, 5361,  290,    4,    1,  761,  969,    1,    3,   24,  935,\n",
            "        2271,  393,    7,    1, 1675,    4, 3747,  250,  148,    4,  112,\n",
            "         436,  761, 3529,  548,    4, 3633,   31,    2, 1331,   28, 2096,\n",
            "           3, 2912,    9,    6,  163,    4, 1006,   20,    2,    1,   15,\n",
            "          85,   53,  147,    9,  292,   89,  959, 2314,  984,   27,  762,\n",
            "           6,  959,    9,  564,   18,    7, 2140,   32,   24, 1254,   36,\n",
            "           1,   85,    3, 3298,   85,    6, 1410,    3, 1936,    2, 3408,\n",
            "         301,  965,    7,    4,  112,  740, 1977,   12,    1, 2014, 2772,\n",
            "           3,    4,  428,    3, 5177,    6,  512, 1254,    1,  278,   27,\n",
            "         139,   25,  308,    1,  579,    5,  259, 3529,    7,   92, 8981,\n",
            "          32,    2, 3842,  230,   27,  289,    9,   35,    2, 5712,   18,\n",
            "          27,  144, 2166,   56,    6,   26,   46,  466, 2014,   27,   40,\n",
            "        2745,  657,  212,    4, 1376, 3002, 7080,  183,   36,  180,   52,\n",
            "         920,    8,    2, 4028,   12,  969,    1,  158,   71,   53,   67,\n",
            "          85, 2754,    4,  734,   51,    1, 1611,  294,   85,    6,    2,\n",
            "        1164,    6,  163,    4, 3408,   15,   85,    6,  717,   85,   44,\n",
            "           5,   24, 7158,    3,   48,  604,    7,   11,  225,  384,   73,\n",
            "          65,   21,  242,   18,   27,  120,  295,    6,   26,  667,  129,\n",
            "        4028,  948,    6,   67,   48,  158,   93,    1]])>, <tf.Tensor: shape=(), dtype=int32, numpy=0>)\n"
          ],
          "name": "stdout"
        }
      ]
    },
    {
      "cell_type": "code",
      "metadata": {
        "colab": {
          "base_uri": "https://localhost:8080/"
        },
        "id": "luvrwOuLyUAa",
        "outputId": "84b2ce93-15db-4d6b-bd55-66bfb881309c"
      },
      "source": [
        "print(\"1287 ---> \",vectorize_layer.get_vocabulary()[1287])\n",
        "print(\" 313 ---> \",vectorize_layer.get_vocabulary()[313])\n",
        "print('Vocabulary size: {}'.format(len(vectorize_layer.get_vocabulary())))"
      ],
      "execution_count": 23,
      "outputs": [
        {
          "output_type": "stream",
          "text": [
            "1287 --->  silent\n",
            " 313 --->  night\n",
            "Vocabulary size: 10000\n"
          ],
          "name": "stdout"
        }
      ]
    },
    {
      "cell_type": "code",
      "metadata": {
        "id": "hW08RaUdyayS"
      },
      "source": [
        "train_ds = raw_train_ds.map(vectorize_text)\n",
        "val_ds = raw_val_ds.map(vectorize_text)\n",
        "test_ds = raw_test_ds.map(vectorize_text)"
      ],
      "execution_count": 24,
      "outputs": []
    },
    {
      "cell_type": "markdown",
      "metadata": {
        "id": "Crjdc3Ndyea4"
      },
      "source": [
        "Configure the dataset for performance"
      ]
    },
    {
      "cell_type": "code",
      "metadata": {
        "id": "f3vTgq68ye_Z"
      },
      "source": [
        "AUTOTUNE = tf.data.AUTOTUNE\n",
        "\n",
        "train_ds = train_ds.cache().prefetch(buffer_size=AUTOTUNE)\n",
        "val_ds = val_ds.cache().prefetch(buffer_size=AUTOTUNE)\n",
        "test_ds = test_ds.cache().prefetch(buffer_size=AUTOTUNE)"
      ],
      "execution_count": 25,
      "outputs": []
    },
    {
      "cell_type": "markdown",
      "metadata": {
        "id": "WN6ndgVyzzgq"
      },
      "source": [
        "The model\n"
      ]
    },
    {
      "cell_type": "code",
      "metadata": {
        "id": "BbIvAib5z1BC"
      },
      "source": [
        "embedding_dim = 16"
      ],
      "execution_count": 26,
      "outputs": []
    },
    {
      "cell_type": "code",
      "metadata": {
        "colab": {
          "base_uri": "https://localhost:8080/"
        },
        "id": "eZzg2Wxfm1us",
        "outputId": "3ae9c1fa-b605-482b-fecd-2288802e00c6"
      },
      "source": [
        "model = tf.keras.Sequential([\n",
        "                             tf.keras.layers.Embedding(max_features+1,embedding_dim),\n",
        "                             tf.keras.layers.Dropout(0.2),\n",
        "                             tf.keras.layers.GlobalAveragePooling1D(),\n",
        "                             tf.keras.layers.Dropout(0.2),\n",
        "                             tf.keras.layers.Dense(1)\n",
        "])\n",
        "model.summary()"
      ],
      "execution_count": 27,
      "outputs": [
        {
          "output_type": "stream",
          "text": [
            "Model: \"sequential\"\n",
            "_________________________________________________________________\n",
            "Layer (type)                 Output Shape              Param #   \n",
            "=================================================================\n",
            "embedding (Embedding)        (None, None, 16)          160016    \n",
            "_________________________________________________________________\n",
            "dropout (Dropout)            (None, None, 16)          0         \n",
            "_________________________________________________________________\n",
            "global_average_pooling1d (Gl (None, 16)                0         \n",
            "_________________________________________________________________\n",
            "dropout_1 (Dropout)          (None, 16)                0         \n",
            "_________________________________________________________________\n",
            "dense (Dense)                (None, 1)                 17        \n",
            "=================================================================\n",
            "Total params: 160,033\n",
            "Trainable params: 160,033\n",
            "Non-trainable params: 0\n",
            "_________________________________________________________________\n"
          ],
          "name": "stdout"
        }
      ]
    },
    {
      "cell_type": "markdown",
      "metadata": {
        "id": "PRaenOU6o8ne"
      },
      "source": [
        "Loss fuction and optimizer"
      ]
    },
    {
      "cell_type": "code",
      "metadata": {
        "id": "QqQF0R07o_XW"
      },
      "source": [
        "model.compile(loss=tf.keras.losses.BinaryCrossentropy(from_logits=True),\n",
        "              optimizer='adam',\n",
        "              metrics = tf.metrics.BinaryAccuracy(threshold=0.0))"
      ],
      "execution_count": 28,
      "outputs": []
    },
    {
      "cell_type": "markdown",
      "metadata": {
        "id": "J6D-1R3Ipar2"
      },
      "source": [
        "Train the model"
      ]
    },
    {
      "cell_type": "code",
      "metadata": {
        "colab": {
          "base_uri": "https://localhost:8080/"
        },
        "id": "rlpZXNgCpaQ2",
        "outputId": "31479b95-7253-4e98-e4f9-8bf7842a946a"
      },
      "source": [
        "Epochs = 15\n",
        "history = model.fit(\n",
        "    train_ds,\n",
        "    validation_data= val_ds,\n",
        "    epochs=Epochs\n",
        ")"
      ],
      "execution_count": 29,
      "outputs": [
        {
          "output_type": "stream",
          "text": [
            "Epoch 1/15\n",
            "625/625 [==============================] - 13s 20ms/step - loss: 0.6824 - binary_accuracy: 0.6067 - val_loss: 0.6154 - val_binary_accuracy: 0.7738\n",
            "Epoch 2/15\n",
            "625/625 [==============================] - 5s 8ms/step - loss: 0.5805 - binary_accuracy: 0.7843 - val_loss: 0.4987 - val_binary_accuracy: 0.8222\n",
            "Epoch 3/15\n",
            "625/625 [==============================] - 5s 8ms/step - loss: 0.4664 - binary_accuracy: 0.8349 - val_loss: 0.4204 - val_binary_accuracy: 0.8476\n",
            "Epoch 4/15\n",
            "625/625 [==============================] - 5s 7ms/step - loss: 0.3912 - binary_accuracy: 0.8589 - val_loss: 0.3736 - val_binary_accuracy: 0.8610\n",
            "Epoch 5/15\n",
            "625/625 [==============================] - 5s 8ms/step - loss: 0.3443 - binary_accuracy: 0.8746 - val_loss: 0.3446 - val_binary_accuracy: 0.8676\n",
            "Epoch 6/15\n",
            "625/625 [==============================] - 5s 8ms/step - loss: 0.3106 - binary_accuracy: 0.8866 - val_loss: 0.3257 - val_binary_accuracy: 0.8728\n",
            "Epoch 7/15\n",
            "625/625 [==============================] - 5s 8ms/step - loss: 0.2871 - binary_accuracy: 0.8945 - val_loss: 0.3125 - val_binary_accuracy: 0.8740\n",
            "Epoch 8/15\n",
            "625/625 [==============================] - 5s 7ms/step - loss: 0.2665 - binary_accuracy: 0.9046 - val_loss: 0.3030 - val_binary_accuracy: 0.8750\n",
            "Epoch 9/15\n",
            "625/625 [==============================] - 5s 7ms/step - loss: 0.2488 - binary_accuracy: 0.9109 - val_loss: 0.2963 - val_binary_accuracy: 0.8774\n",
            "Epoch 10/15\n",
            "625/625 [==============================] - 5s 7ms/step - loss: 0.2341 - binary_accuracy: 0.9164 - val_loss: 0.2916 - val_binary_accuracy: 0.8788\n",
            "Epoch 11/15\n",
            "625/625 [==============================] - 5s 7ms/step - loss: 0.2213 - binary_accuracy: 0.9200 - val_loss: 0.2886 - val_binary_accuracy: 0.8804\n",
            "Epoch 12/15\n",
            "625/625 [==============================] - 5s 7ms/step - loss: 0.2103 - binary_accuracy: 0.9245 - val_loss: 0.2870 - val_binary_accuracy: 0.8810\n",
            "Epoch 13/15\n",
            "625/625 [==============================] - 5s 7ms/step - loss: 0.1998 - binary_accuracy: 0.9303 - val_loss: 0.2860 - val_binary_accuracy: 0.8820\n",
            "Epoch 14/15\n",
            "625/625 [==============================] - 5s 7ms/step - loss: 0.1889 - binary_accuracy: 0.9331 - val_loss: 0.2864 - val_binary_accuracy: 0.8810\n",
            "Epoch 15/15\n",
            "625/625 [==============================] - 5s 7ms/step - loss: 0.1811 - binary_accuracy: 0.9367 - val_loss: 0.2871 - val_binary_accuracy: 0.8832\n"
          ],
          "name": "stdout"
        }
      ]
    },
    {
      "cell_type": "markdown",
      "metadata": {
        "id": "FBJuba0Nps_2"
      },
      "source": [
        "Evaluate the Model\n"
      ]
    },
    {
      "cell_type": "code",
      "metadata": {
        "colab": {
          "base_uri": "https://localhost:8080/"
        },
        "id": "-oR0JoC2pvZ-",
        "outputId": "2088c9d4-c024-4a09-c506-14bf7c22bf5a"
      },
      "source": [
        "loss, accuracy = model.evaluate(test_ds)\n",
        "print(\n",
        "    \"Loss: \", loss\n",
        ")\n",
        "print(\n",
        "    \"Accuracy\", accuracy\n",
        ")"
      ],
      "execution_count": 30,
      "outputs": [
        {
          "output_type": "stream",
          "text": [
            "782/782 [==============================] - 11s 14ms/step - loss: 0.3117 - binary_accuracy: 0.8733\n",
            "Loss:  0.31167882680892944\n",
            "Accuracy 0.8733199834823608\n"
          ],
          "name": "stdout"
        }
      ]
    },
    {
      "cell_type": "markdown",
      "metadata": {
        "id": "wXyhgE-hqIwv"
      },
      "source": [
        "Create a plot of accuracy and loss over time \n"
      ]
    },
    {
      "cell_type": "code",
      "metadata": {
        "colab": {
          "base_uri": "https://localhost:8080/"
        },
        "id": "vTTxM9mlqMq7",
        "outputId": "b2b4c09c-fccf-4813-fac3-c1813f129628"
      },
      "source": [
        "history_dict=history.history\n",
        "history_dict.keys()"
      ],
      "execution_count": 31,
      "outputs": [
        {
          "output_type": "execute_result",
          "data": {
            "text/plain": [
              "dict_keys(['loss', 'binary_accuracy', 'val_loss', 'val_binary_accuracy'])"
            ]
          },
          "metadata": {
            "tags": []
          },
          "execution_count": 31
        }
      ]
    },
    {
      "cell_type": "markdown",
      "metadata": {
        "id": "5M7obRrMqzJA"
      },
      "source": [
        "Plot the training and validation loss for comparison"
      ]
    },
    {
      "cell_type": "code",
      "metadata": {
        "colab": {
          "base_uri": "https://localhost:8080/",
          "height": 295
        },
        "id": "zUMMzBKwqzye",
        "outputId": "731ef9b9-8fe5-4c42-db3c-c2064f7d2fda"
      },
      "source": [
        "acc = history_dict['binary_accuracy']\n",
        "val_acc = history_dict['val_binary_accuracy']\n",
        "loss = history_dict['loss']\n",
        "val_loss = history_dict['val_loss']\n",
        "\n",
        "epochs= range(1,len(acc)+1)\n",
        "\n",
        "plt.plot(epochs,loss,'bo', label='Training loss')\n",
        "plt.plot(epochs, val_loss,'b', label='Validation loss')\n",
        "plt.title('Training and validation loss')\n",
        "plt.xlabel('Epochs')\n",
        "plt.ylabel('Loss')\n",
        "plt.legend()\n",
        "\n",
        "plt.show()"
      ],
      "execution_count": 32,
      "outputs": [
        {
          "output_type": "display_data",
          "data": {
            "image/png": "[encoded data removed]",
            "text/plain": [
              "<Figure size 432x288 with 1 Axes>"
            ]
          },
          "metadata": {
            "tags": [],
            "needs_background": "light"
          }
        }
      ]
    },
    {
      "cell_type": "code",
      "metadata": {
        "colab": {
          "base_uri": "https://localhost:8080/",
          "height": 295
        },
        "id": "F7n5-L2Wr1Pf",
        "outputId": "aea44b0f-5744-4b39-b469-9a415923e358"
      },
      "source": [
        "plt.plot(epochs,acc,'ro',label='Training accuracy')\n",
        "plt.plot(epochs,val_acc,'r',label='Validation accuracy')\n",
        "plt.title('Training and validation accuracy')\n",
        "plt.xlabel('Epochs')\n",
        "plt.ylabel('Accuracy')\n",
        "plt.legend(loc='lower right')\n",
        "\n",
        "plt.show()"
      ],
      "execution_count": 33,
      "outputs": [
        {
          "output_type": "display_data",
          "data": {
            "image/png": "[encoded data removed]",
            "text/plain": [
              "<Figure size 432x288 with 1 Axes>"
            ]
          },
          "metadata": {
            "tags": [],
            "needs_background": "light"
          }
        }
      ]
    },
    {
      "cell_type": "markdown",
      "metadata": {
        "id": "3Ea_Fa9ExvF8"
      },
      "source": [
        "The model performs better on the training data than it does on data it has never seen before. After this point, the model over-optimizes and learns representations specific to the training data that do not generalize to test data.\n",
        "That's overfitting \n",
        "( I will push another repo where I will handle this \" issue\" where I could prevent overfitting by simply stopping the training when the validation accuracy is no longer increasing. )"
      ]
    },
    {
      "cell_type": "code",
      "metadata": {
        "id": "Rk0XZHHtvtD5"
      },
      "source": [
        "# tf.keras.callbacks.EarlyStopping(\n",
        "#     monitor='val_loss', min_delta=0, patience=0, verbose=0,\n",
        "#     mode='auto', baseline=None, restore_best_weights=False\n",
        "# )"
      ],
      "execution_count": 34,
      "outputs": []
    },
    {
      "cell_type": "markdown",
      "metadata": {
        "id": "JwF70eCMwXVZ"
      },
      "source": [
        "you can include the TextVectorization layer inside your model."
      ]
    },
    {
      "cell_type": "code",
      "metadata": {
        "colab": {
          "base_uri": "https://localhost:8080/"
        },
        "id": "KYVuij2dwX_g",
        "outputId": "2b8c9c3f-a5d4-4bcd-c9c0-2cc632aa1a4a"
      },
      "source": [
        "model_with_txtVect_layer = tf.keras.Sequential([\n",
        "                                    vectorize_layer,\n",
        "                                    model,\n",
        "                                    tf.keras.layers.Activation('sigmoid')\n",
        "])\n",
        "\n",
        "model_with_txtVect_layer.compile(\n",
        "    loss= tf.keras.losses.BinaryCrossentropy(from_logits=False), \n",
        "    optimizer=\"adam\",\n",
        "    metrics=['accuracy']\n",
        ")\n",
        "\n",
        "loss, accuracy = model_with_txtVect_layer.evaluate(raw_test_ds)\n",
        "\n",
        "print(accuracy)"
      ],
      "execution_count": 35,
      "outputs": [
        {
          "output_type": "stream",
          "text": [
            "782/782 [==============================] - 12s 14ms/step - loss: 0.3139 - accuracy: 0.8726\n",
            "0.8733199834823608\n"
          ],
          "name": "stdout"
        }
      ]
    },
    {
      "cell_type": "markdown",
      "metadata": {
        "id": "wrOl7HPyxgdB"
      },
      "source": [
        "Inference on new data"
      ]
    },
    {
      "cell_type": "code",
      "metadata": {
        "id": "4b2GJ1lOxjop"
      },
      "source": [
        "examples = [ \n",
        "  \"The movie was great!\",\n",
        "  \"The movie was okay.\",\n",
        "  \"The movie was terrible...\"\n",
        "            ]"
      ],
      "execution_count": 53,
      "outputs": []
    },
    {
      "cell_type": "code",
      "metadata": {
        "colab": {
          "base_uri": "https://localhost:8080/"
        },
        "id": "AsrhS0j8yMhI",
        "outputId": "88e8f0c7-43d8-4df1-9591-4de1144883d9"
      },
      "source": [
        "predicted_result= model_with_txtVect_layer.predict(examples)\n",
        "predicted_result"
      ],
      "execution_count": 54,
      "outputs": [
        {
          "output_type": "execute_result",
          "data": {
            "text/plain": [
              "array([[0.6419037],\n",
              "       [0.4218584],\n",
              "       [0.3219195]], dtype=float32)"
            ]
          },
          "metadata": {
            "tags": []
          },
          "execution_count": 54
        }
      ]
    },
    {
      "cell_type": "code",
      "metadata": {
        "colab": {
          "base_uri": "https://localhost:8080/"
        },
        "id": "a4FLoJS3mdAN",
        "outputId": "afe049b3-292f-49c2-cf71-705bdd06e474"
      },
      "source": [
        "def result(predicted_result):\n",
        "  for i in range(len(examples)):\n",
        "    print(\"__________\")\n",
        "    if(predicted_result[i]<=0.4):\n",
        "      print(\"The comment : \")\n",
        "      print(examples[i])\n",
        "      print(\"is bad Comment :(\")\n",
        "    if(predicted_result[i]<0.6 and predicted_result[i]>0.4 ):\n",
        "      print(\"The comment : \")\n",
        "      print(examples[i])\n",
        "      print(\"is okay...  :| \")\n",
        "    if(predicted_result[i]>=0.6):\n",
        "      print(\"The comment : \")\n",
        "      print(examples[i])\n",
        "      print(\"is Good ! :D\")\n",
        "      \n",
        "\n",
        "\n",
        "result(predicted_result)"
      ],
      "execution_count": 62,
      "outputs": [
        {
          "output_type": "stream",
          "text": [
            "__________\n",
            "The comment : \n",
            "The movie was great!\n",
            "is Good ! :D\n",
            "__________\n",
            "The comment : \n",
            "The movie was okay.\n",
            "is okay...  :| \n",
            "__________\n",
            "The comment : \n",
            "The movie was terrible...\n",
            "is bad Comment :(\n"
          ],
          "name": "stdout"
        }
      ]
    }
  ]
}